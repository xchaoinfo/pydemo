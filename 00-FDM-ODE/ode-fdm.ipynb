{
 "cells": [
  {
   "cell_type": "markdown",
   "metadata": {},
   "source": [
    "### 二阶微分方程的有限差分法(Python)\n",
    "考虑如下的二阶微分方程\n",
    "$$ -U''(x) = f(x) = 9sin(3x)-6x,  x\\in(0, \\pi) $$\n",
    "给定如下的边值条件\n",
    "$$U(0)=0, U(\\pi)=\\pi^3$$\n",
    "我们可以得到解析解为：\n",
    "$$ U(x)=sin(3x)+x^3 $$\n",
    "在区间$[0, \\pi]$离散，可以得到如下的二阶中心差分格式\n",
    "\n",
    "$$ -\\frac{U_{i-1}-2U_i + U_{i+1}}{h^2} = f_i $$\n",
    "\n",
    "将上式写成矩阵的形式，$AU=F$, 其中 $A$ 为三对角占优矩阵，因此这个 $AU=F$ 这个方程组可以通过追赶法求解。\n",
    "追赶法英文文献中常被称为 Thomas' algorithm，详见维基百科 [Tridiagonal matrix algorithm](https://en.wikipedia.org/wiki/Tridiagonal_matrix_algorithm)"
   ]
  },
  {
   "cell_type": "code",
   "execution_count": 1,
   "metadata": {},
   "outputs": [],
   "source": [
    "import numpy as np\n",
    "import matplotlib.pyplot as plt"
   ]
  },
  {
   "cell_type": "markdown",
   "metadata": {},
   "source": [
    "首先，用 Python 中的 numpy 实现 Thomas 算法 "
   ]
  },
  {
   "cell_type": "code",
   "execution_count": 2,
   "metadata": {},
   "outputs": [],
   "source": [
    "def Thomas(La, Mb, Uc, b):\n",
    "    \"\"\"\n",
    "    Arguments:\n",
    "        La -- [lower item for tri-diagonal matrix]\n",
    "        Mb -- [mian item for tri-diagonal matrix]\n",
    "        Uc -- [upper item for tri-diagonal matrix]\n",
    "        b -- [AX = b, where A is the tri-diagonal matrix]\n",
    "    \"\"\"\n",
    "    n = len(Mb)\n",
    "    Uc[0] = Uc[0] / Mb[0]\n",
    "    for i in range(1, n-1):\n",
    "        Uc[i] = Uc[i] / (Mb[i] - La[i - 1] * Uc[i - 1])\n",
    "    b[0] = b[0] / Mb[0]\n",
    "    for i in range(1, n):\n",
    "        b[i] = (b[i] - La[i-1]*b[i-1]) \\\n",
    "        / (Mb[i] - La[i-1] * Uc[i-1])\n",
    "    ls = list(range(n-1))[::-1]\n",
    "#     print(b)\n",
    "    for i in ls:\n",
    "        b[i] = b[i] - Uc[i]*b[i+1]\n",
    "    return b"
   ]
  },
  {
   "cell_type": "markdown",
   "metadata": {},
   "source": [
    "踩坑1："
   ]
  },
  {
   "cell_type": "code",
   "execution_count": null,
   "metadata": {},
   "outputs": [],
   "source": []
  },
  {
   "cell_type": "code",
   "execution_count": null,
   "metadata": {},
   "outputs": [],
   "source": []
  },
  {
   "cell_type": "code",
   "execution_count": 3,
   "metadata": {},
   "outputs": [],
   "source": [
    "def Exact(X):\n",
    "    return np.sin(3*X) + np.power(X,3)\n",
    "\n",
    "def f(X):\n",
    "    return 9.0*np.sin(3.*X) - 6.*(X)\n",
    "\n",
    "def FDMode(n):\n",
    "    Xa = 0\n",
    "    Xb = np.pi\n",
    "    U0 = 0\n",
    "    Upi = np.pi**3\n",
    "    h = np.array((Xb-Xa)/n)\n",
    "    h2 = h**2\n",
    "    N = n+1 # all point\n",
    "    U_numerical = np.zeros((N,1))\n",
    "    U_numerical[0] = U0\n",
    "    U_numerical[-1] = Upi\n",
    "    X = np.linspace(Xa,Xb,N)\n",
    "    La = np.zeros((n-2,))\n",
    "    Mb = np.zeros((n-1,))\n",
    "    Uc = np.zeros((n-2,))\n",
    "    La[:] = -1.0/h2\n",
    "    Mb[:] = 2.0/h2\n",
    "    Uc[:] = -1.0/h2\n",
    "    b = f(X)[1:-1]\n",
    "\n",
    "    b[0] = b[0] + U0\n",
    "    b[-1] = b[-1] + Upi/h2\n",
    "\n",
    "    res = Thomas(La,Mb,Uc,b)\n",
    "    exact = Exact(X)\n",
    "    # errors \n",
    "    norm_max = np.max(np.abs(exact[1:-1]-res))\n",
    "    norm_2 = np.sqrt(np.sum(np.abs(exact[1:-1]-res)**2))\n",
    "#     print(n,norm_max, norm_2)\n",
    "    return norm_max, norm_2"
   ]
  },
  {
   "cell_type": "markdown",
   "metadata": {},
   "source": [
    "对不同的网格剖分数下二范数误差和最大范数误差进行绘图对比"
   ]
  },
  {
   "cell_type": "code",
   "execution_count": 4,
   "metadata": {},
   "outputs": [
    {
     "name": "stdout",
     "output_type": "stream",
     "text": [
      "norm_2 [0.17313691 0.05917509 0.03201182 0.02074735 0.01483074 0.011276\n",
      " 0.00894525 0.00732002 0.00613367 0.00523647]\n",
      "norm_max [0.07742918 0.01871281 0.00826542 0.00463925 0.00296615 0.00205871\n",
      " 0.00151202 0.0011574  0.00091435 0.00074055]\n"
     ]
    },
    {
     "data": {
      "image/png": "[encoded data removed]",
      "text/plain": [
       "<Figure size 432x288 with 1 Axes>"
      ]
     },
     "metadata": {},
     "output_type": "display_data"
    }
   ],
   "source": [
    "nlist = list(range(10,101,10))\n",
    "NN = len(nlist)\n",
    "Norm2 = np.zeros((NN,))\n",
    "NormMax = np.zeros((NN,))\n",
    "for i in range(NN):\n",
    "    norm_max, norm_2 = FDMode(nlist[i])\n",
    "    Norm2[i] = norm_2\n",
    "    NormMax[i] = norm_max\n",
    "\n",
    "print(\"norm_2\",Norm2)\n",
    "print(\"norm_max\",NormMax)\n",
    "fig, ax = plt.subplots()\n",
    "ax.loglog(nlist,Norm2, basex=10, basey=10)\n",
    "ax.loglog(nlist,NormMax, basex=10, basey=10)\n",
    "ax.set_xlabel('n', fontsize=10)\n",
    "ax.set_ylabel('Error', fontsize=10)\n",
    "ax.legend([\"Norm_2\", \"Norm_max\"])\n",
    "plt.show()\n"
   ]
  },
  {
   "cell_type": "code",
   "execution_count": null,
   "metadata": {},
   "outputs": [],
   "source": []
  }
 ],
 "metadata": {
  "kernelspec": {
   "display_name": "Python 3",
   "language": "python",
   "name": "python3"
  },
  "language_info": {
   "codemirror_mode": {
    "name": "ipython",
    "version": 3
   },
   "file_extension": ".py",
   "mimetype": "text/x-python",
   "name": "python",
   "nbconvert_exporter": "python",
   "pygments_lexer": "ipython3",
   "version": "3.5.3"
  }
 },
 "nbformat": 4,
 "nbformat_minor": 2
}
